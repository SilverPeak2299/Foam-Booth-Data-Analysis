{
 "cells": [
  {
   "cell_type": "markdown",
   "id": "8d43c5d1",
   "metadata": {},
   "source": [
    "# Initial Data Exploration\n",
    "\n",
    "In this section, I perform a preliminary analysis of the raw sales data to understand its structure, identify inconsistencies, and uncover patterns that will inform the data cleaning and transformation process. We'll inspect key columns such as customer names, invoice numbers, product descriptions, and totals, and assess common issues such as:\n",
    "\n",
    "- Multi-line entries per invoice\n",
    "- Inconsistent or ambiguous product labels (e.g., \"HD\", \"High Dense\", \"N29/200\")\n",
    "- Spelling errors and data formatting issues"
   ]
  },
  {
   "cell_type": "code",
   "execution_count": null,
   "id": "10656c80",
   "metadata": {},
   "outputs": [],
   "source": []
  }
 ],
 "metadata": {
  "kernelspec": {
   "display_name": ".venv",
   "language": "python",
   "name": "python3"
  },
  "language_info": {
   "name": "python",
   "version": "3.13.2"
  }
 },
 "nbformat": 4,
 "nbformat_minor": 5
}
